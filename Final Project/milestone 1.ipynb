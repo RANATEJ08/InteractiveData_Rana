{
 "cells": [
  {
   "cell_type": "code",
   "execution_count": 1,
   "metadata": {
    "id": "UhEcf6-ldrlm"
   },
   "outputs": [],
   "source": [
    "# Import necessary libraries\n",
    "import pandas as pd\n",
    "import numpy as np"
   ]
  },
  {
   "cell_type": "code",
   "execution_count": 2,
   "metadata": {
    "id": "Vrf28BX9e1WL"
   },
   "outputs": [],
   "source": [
    "# Load the dataset\n",
    "file_path = 'financial_risk_assessment.csv'  \n",
    "df = pd.read_csv(file_path)"
   ]
  },
  {
   "cell_type": "code",
   "execution_count": 3,
   "metadata": {
    "colab": {
     "base_uri": "https://localhost:8080/"
    },
    "id": "0OjNpr8-e2xk",
    "outputId": "1e07fc2b-b34f-4b13-a353-551bc4c09b10"
   },
   "outputs": [
    {
     "name": "stdout",
     "output_type": "stream",
     "text": [
      "First few rows of the dataset:\n",
      "   Age      Gender Education Level Marital Status   Income  Credit Score  \\\n",
      "0   49        Male             PhD       Divorced  72799.0         688.0   \n",
      "1   57      Female      Bachelor's        Widowed      NaN         690.0   \n",
      "2   21  Non-binary        Master's         Single  55687.0         600.0   \n",
      "3   59        Male      Bachelor's         Single  26508.0         622.0   \n",
      "4   25  Non-binary      Bachelor's        Widowed  49427.0         766.0   \n",
      "\n",
      "   Loan Amount Loan Purpose Employment Status  Years at Current Job  \\\n",
      "0      45713.0     Business        Unemployed                    19   \n",
      "1      33835.0         Auto          Employed                     6   \n",
      "2      36623.0         Home          Employed                     8   \n",
      "3      26541.0     Personal        Unemployed                     2   \n",
      "4      36528.0     Personal        Unemployed                    10   \n",
      "\n",
      "  Payment History  Debt-to-Income Ratio  Assets Value  Number of Dependents  \\\n",
      "0            Poor              0.154313      120228.0                   0.0   \n",
      "1            Fair              0.148920       55849.0                   0.0   \n",
      "2            Fair              0.362398      180700.0                   3.0   \n",
      "3       Excellent              0.454964      157319.0                   3.0   \n",
      "4            Fair              0.143242      287140.0                   NaN   \n",
      "\n",
      "              City State       Country  Previous Defaults  \\\n",
      "0   Port Elizabeth    AS        Cyprus                2.0   \n",
      "1  North Catherine    OH  Turkmenistan                3.0   \n",
      "2      South Scott    OK    Luxembourg                3.0   \n",
      "3       Robinhaven    PR        Uganda                4.0   \n",
      "4      New Heather    IL       Namibia                3.0   \n",
      "\n",
      "   Marital Status Change Risk Rating  \n",
      "0                      2         Low  \n",
      "1                      2      Medium  \n",
      "2                      2      Medium  \n",
      "3                      2      Medium  \n",
      "4                      1         Low  \n"
     ]
    }
   ],
   "source": [
    "# Initial Data Exploration\n",
    "print(\"First few rows of the dataset:\")\n",
    "print(df.head())"
   ]
  },
  {
   "cell_type": "code",
   "execution_count": 4,
   "metadata": {
    "colab": {
     "base_uri": "https://localhost:8080/"
    },
    "id": "LlsAb_m8e44h",
    "outputId": "ec4ce75a-07ce-4fd3-8fb2-a6ddc5ab200f"
   },
   "outputs": [
    {
     "name": "stdout",
     "output_type": "stream",
     "text": [
      "\n",
      "Dataset Information:\n",
      "<class 'pandas.core.frame.DataFrame'>\n",
      "RangeIndex: 15000 entries, 0 to 14999\n",
      "Data columns (total 20 columns):\n",
      " #   Column                 Non-Null Count  Dtype  \n",
      "---  ------                 --------------  -----  \n",
      " 0   Age                    15000 non-null  int64  \n",
      " 1   Gender                 15000 non-null  object \n",
      " 2   Education Level        15000 non-null  object \n",
      " 3   Marital Status         15000 non-null  object \n",
      " 4   Income                 12750 non-null  float64\n",
      " 5   Credit Score           12750 non-null  float64\n",
      " 6   Loan Amount            12750 non-null  float64\n",
      " 7   Loan Purpose           15000 non-null  object \n",
      " 8   Employment Status      15000 non-null  object \n",
      " 9   Years at Current Job   15000 non-null  int64  \n",
      " 10  Payment History        15000 non-null  object \n",
      " 11  Debt-to-Income Ratio   15000 non-null  float64\n",
      " 12  Assets Value           12750 non-null  float64\n",
      " 13  Number of Dependents   12750 non-null  float64\n",
      " 14  City                   15000 non-null  object \n",
      " 15  State                  15000 non-null  object \n",
      " 16  Country                15000 non-null  object \n",
      " 17  Previous Defaults      12750 non-null  float64\n",
      " 18  Marital Status Change  15000 non-null  int64  \n",
      " 19  Risk Rating            15000 non-null  object \n",
      "dtypes: float64(7), int64(3), object(10)\n",
      "memory usage: 2.3+ MB\n"
     ]
    }
   ],
   "source": [
    "print(\"\\nDataset Information:\")\n",
    "df.info()"
   ]
  },
  {
   "cell_type": "code",
   "execution_count": 5,
   "metadata": {
    "colab": {
     "base_uri": "https://localhost:8080/"
    },
    "id": "X4glpPQMe6O5",
    "outputId": "dc44095e-aaed-4070-cec9-d5c602e59ccf"
   },
   "outputs": [
    {
     "name": "stdout",
     "output_type": "stream",
     "text": [
      "\n",
      "Summary Statistics:\n",
      "                Age         Income  Credit Score   Loan Amount  \\\n",
      "count  15000.000000   12750.000000  12750.000000  12750.000000   \n",
      "mean      43.452667   69933.398510    699.109098  27450.010902   \n",
      "std       14.910732   29163.626207     57.229465  12949.940135   \n",
      "min       18.000000   20005.000000    600.000000   5000.000000   \n",
      "25%       31.000000   44281.500000    650.000000  16352.500000   \n",
      "50%       43.000000   69773.000000    699.000000  27544.000000   \n",
      "75%       56.000000   95922.750000    748.000000  38547.500000   \n",
      "max       69.000000  119997.000000    799.000000  49998.000000   \n",
      "\n",
      "       Years at Current Job  Debt-to-Income Ratio   Assets Value  \\\n",
      "count          15000.000000          15000.000000   12750.000000   \n",
      "mean               9.476267              0.350438  159741.497176   \n",
      "std                5.769707              0.143919   80298.115832   \n",
      "min                0.000000              0.100004   20055.000000   \n",
      "25%                4.000000              0.227386   90635.250000   \n",
      "50%                9.000000              0.350754  159362.000000   \n",
      "75%               15.000000              0.476095  228707.000000   \n",
      "max               19.000000              0.599970  299999.000000   \n",
      "\n",
      "       Number of Dependents  Previous Defaults  Marital Status Change  \n",
      "count           12750.00000       12750.000000           15000.000000  \n",
      "mean                2.02651           1.992471               0.998467  \n",
      "std                 1.41130           1.416909               0.813782  \n",
      "min                 0.00000           0.000000               0.000000  \n",
      "25%                 1.00000           1.000000               0.000000  \n",
      "50%                 2.00000           2.000000               1.000000  \n",
      "75%                 3.00000           3.000000               2.000000  \n",
      "max                 4.00000           4.000000               2.000000  \n"
     ]
    }
   ],
   "source": [
    "print(\"\\nSummary Statistics:\")\n",
    "print(df.describe())"
   ]
  },
  {
   "cell_type": "markdown",
   "metadata": {
    "id": "mfAMGoy-fCWT"
   },
   "source": [
    "### Data missing value check"
   ]
  },
  {
   "cell_type": "code",
   "execution_count": 6,
   "metadata": {
    "colab": {
     "base_uri": "https://localhost:8080/"
    },
    "id": "HlwLNbiIe7wc",
    "outputId": "11d930ab-7890-47d0-e9aa-0a4b98370120"
   },
   "outputs": [
    {
     "name": "stdout",
     "output_type": "stream",
     "text": [
      "\n",
      "Missing Values per Column:\n",
      "Age                         0\n",
      "Gender                      0\n",
      "Education Level             0\n",
      "Marital Status              0\n",
      "Income                   2250\n",
      "Credit Score             2250\n",
      "Loan Amount              2250\n",
      "Loan Purpose                0\n",
      "Employment Status           0\n",
      "Years at Current Job        0\n",
      "Payment History             0\n",
      "Debt-to-Income Ratio        0\n",
      "Assets Value             2250\n",
      "Number of Dependents     2250\n",
      "City                        0\n",
      "State                       0\n",
      "Country                     0\n",
      "Previous Defaults        2250\n",
      "Marital Status Change       0\n",
      "Risk Rating                 0\n",
      "dtype: int64\n"
     ]
    }
   ],
   "source": [
    "# Checking for missing values\n",
    "print(\"\\nMissing Values per Column:\")\n",
    "print(df.isnull().sum())"
   ]
  },
  {
   "cell_type": "markdown",
   "metadata": {
    "id": "s97cRGA3e_y6"
   },
   "source": [
    "## Data Preprocessing"
   ]
  },
  {
   "cell_type": "code",
   "execution_count": 7,
   "metadata": {
    "id": "NoJnGa7ze9da"
   },
   "outputs": [],
   "source": [
    "# Handle missing values (example: fill numerical NaNs with median, categorical with mode)\n",
    "numerical_cols = df.select_dtypes(include=['float64', 'int64']).columns\n",
    "categorical_cols = df.select_dtypes(include=['object']).columns"
   ]
  },
  {
   "cell_type": "code",
   "execution_count": 8,
   "metadata": {
    "colab": {
     "base_uri": "https://localhost:8080/"
    },
    "id": "RxXaBNGUe_Th",
    "outputId": "bc5d81bf-e268-4d40-c900-63c1bb7da379"
   },
   "outputs": [],
   "source": [
    "# Fill missing numerical columns with median values\n",
    "for col in numerical_cols:\n",
    "    df[col].fillna(df[col].median(), inplace=True)"
   ]
  },
  {
   "cell_type": "code",
   "execution_count": 9,
   "metadata": {
    "colab": {
     "base_uri": "https://localhost:8080/"
    },
    "id": "n0x4vYWqfQ88",
    "outputId": "191f0adf-a0a8-4e32-b27a-aeb907f5d1b8"
   },
   "outputs": [],
   "source": [
    "# Fill missing categorical columns with mode values\n",
    "for col in categorical_cols:\n",
    "    df[col].fillna(df[col].mode()[0], inplace=True)"
   ]
  },
  {
   "cell_type": "code",
   "execution_count": 10,
   "metadata": {
    "colab": {
     "base_uri": "https://localhost:8080/"
    },
    "id": "vVdg3V_1fK0m",
    "outputId": "3544e0a3-c445-4619-bdbf-e3061c34e2a1"
   },
   "outputs": [
    {
     "name": "stdout",
     "output_type": "stream",
     "text": [
      "\n",
      "Missing Values after Imputation:\n",
      "Age                      0\n",
      "Gender                   0\n",
      "Education Level          0\n",
      "Marital Status           0\n",
      "Income                   0\n",
      "Credit Score             0\n",
      "Loan Amount              0\n",
      "Loan Purpose             0\n",
      "Employment Status        0\n",
      "Years at Current Job     0\n",
      "Payment History          0\n",
      "Debt-to-Income Ratio     0\n",
      "Assets Value             0\n",
      "Number of Dependents     0\n",
      "City                     0\n",
      "State                    0\n",
      "Country                  0\n",
      "Previous Defaults        0\n",
      "Marital Status Change    0\n",
      "Risk Rating              0\n",
      "dtype: int64\n"
     ]
    }
   ],
   "source": [
    "# Verify no missing values remain\n",
    "print(\"\\nMissing Values after Imputation:\")\n",
    "print(df.isnull().sum())"
   ]
  },
  {
   "cell_type": "code",
   "execution_count": 11,
   "metadata": {
    "id": "6HaajFHkfRvT"
   },
   "outputs": [],
   "source": [
    "# Outlier Detection and Handling\n",
    "# For example, handling 'Income' and 'Credit Score' outliers using z-scores\n",
    "from scipy.stats import zscore"
   ]
  },
  {
   "cell_type": "code",
   "execution_count": 12,
   "metadata": {
    "id": "pZpxg8_hfVty"
   },
   "outputs": [],
   "source": [
    "# Calculate z-scores and filter out rows with z-score > 3 (can adjust threshold as needed)\n",
    "z_scores = np.abs(zscore(df[numerical_cols]))\n",
    "df = df[(z_scores < 3).all(axis=1)]"
   ]
  },
  {
   "cell_type": "code",
   "execution_count": 13,
   "metadata": {
    "id": "pFuSd7YOfXDZ"
   },
   "outputs": [],
   "source": [
    "# Feature Engineering (Example: Convert 'Employment Status' and 'Loan Purpose' into dummy variables)\n",
    "df = pd.get_dummies(df, columns=['Employment Status', 'Loan Purpose'], drop_first=True)\n"
   ]
  },
  {
   "cell_type": "code",
   "execution_count": 14,
   "metadata": {
    "id": "KZ1ghE0HfYj4"
   },
   "outputs": [],
   "source": [
    "# Save cleaned data to a new CSV file (optional)\n",
    "df.to_csv('cleaned_financial_risk_assessment.csv', index=False)"
   ]
  },
  {
   "cell_type": "code",
   "execution_count": 15,
   "metadata": {
    "colab": {
     "base_uri": "https://localhost:8080/"
    },
    "id": "GHUjzC16fbIi",
    "outputId": "410e6ce5-846c-42fa-ad31-de2ddb4f3e61"
   },
   "outputs": [
    {
     "name": "stdout",
     "output_type": "stream",
     "text": [
      "\n",
      "Data Preprocessing Complete. Cleaned data saved as 'cleaned_financial_risk_assessment.csv'\n"
     ]
    }
   ],
   "source": [
    "print(\"\\nData Preprocessing Complete. Cleaned data saved as 'cleaned_financial_risk_assessment.csv'\")"
   ]
  },
  {
   "cell_type": "code",
   "execution_count": null,
   "metadata": {
    "id": "R_5kg75Mfc25"
   },
   "outputs": [],
   "source": []
  }
 ],
 "metadata": {
  "colab": {
   "provenance": []
  },
  "kernelspec": {
   "display_name": "Python 3 (ipykernel)",
   "language": "python",
   "name": "python3"
  },
  "language_info": {
   "codemirror_mode": {
    "name": "ipython",
    "version": 3
   },
   "file_extension": ".py",
   "mimetype": "text/x-python",
   "name": "python",
   "nbconvert_exporter": "python",
   "pygments_lexer": "ipython3",
   "version": "3.12.4"
  }
 },
 "nbformat": 4,
 "nbformat_minor": 4
}
