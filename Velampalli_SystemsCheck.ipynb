{
 "cells": [
  {
   "cell_type": "code",
   "execution_count": 1,
   "id": "fcf5ec8a-15cb-424e-a03d-f1fab5f62258",
   "metadata": {},
   "outputs": [
    {
     "data": {
      "text/plain": [
       "276919"
      ]
     },
     "execution_count": 1,
     "metadata": {},
     "output_type": "execute_result"
    }
   ],
   "source": [
    "# python code\n",
    "x = 65\n",
    "y = 276854\n",
    "sum = x + y\n",
    "sum"
   ]
  },
  {
   "cell_type": "code",
   "execution_count": 6,
   "id": "5f95e226-11a9-45be-bd44-0f10588ba916",
   "metadata": {},
   "outputs": [
    {
     "name": "stdout",
     "output_type": "stream",
     "text": [
      "0\n",
      "1\n",
      "2\n",
      "3\n",
      "4\n",
      "5\n",
      "6\n",
      "7\n",
      "8\n",
      "9\n"
     ]
    }
   ],
   "source": [
    "#Loop code\n",
    "for i in range(10):\n",
    "    print(i)"
   ]
  },
  {
   "cell_type": "code",
   "execution_count": 5,
   "id": "cf291999-3cca-48f8-9d1b-1b3dcf377fa7",
   "metadata": {},
   "outputs": [
    {
     "name": "stdout",
     "output_type": "stream",
     "text": [
      "Hello, RanaTej!\n"
     ]
    },
    {
     "data": {
      "text/plain": [
       "'Welcome, RanaTej!'"
      ]
     },
     "execution_count": 5,
     "metadata": {},
     "output_type": "execute_result"
    }
   ],
   "source": [
    "# Function Definition Code\n",
    "def greet(RanaTej):\n",
    "    print(f\"Hello, {RanaTej}!\")\n",
    "    return f\"Welcome, {RanaTej}!\"\n",
    "\n",
    "# Function Call code\n",
    "result = greet(\"RanaTej\")\n",
    "result"
   ]
  },
  {
   "cell_type": "markdown",
   "id": "8c842a45-5727-400a-8fcd-0cfc7358b10f",
   "metadata": {},
   "source": [
    "# RanaTej\n",
    "## ChennaiCSK\n",
    "\n",
    "- Hello world\n",
    "- Rana\n",
    "- Alluarjun\n",
    "\n",
    "\n",
    "_Hello From Rana this is italic text_\n",
    "\n",
    "__Hey This is Bols Text and Yup__\n",
    "\n",
    "![Image]https://www.google.com/url?sa=i&url=https%3A%2F%2Fwww.imdb.com%2Ftitle%2Ftt16539454%2F&psig=AOvVaw31reQjS2h-4EEWk1Ep94MU&ust=1725072453852000&source=images&cd=vfe&opi=89978449&ved=0CBQQjRxqFwoTCPiToOnbm4gDFQAAAAAdAAAAABAE"
   ]
  },
  {
   "cell_type": "code",
   "execution_count": null,
   "id": "cdcb8e13-5009-4ef9-b163-832f71e4af12",
   "metadata": {},
   "outputs": [],
   "source": []
  }
 ],
 "metadata": {
  "kernelspec": {
   "display_name": "Python 3 (ipykernel)",
   "language": "python",
   "name": "python3"
  },
  "language_info": {
   "codemirror_mode": {
    "name": "ipython",
    "version": 3
   },
   "file_extension": ".py",
   "mimetype": "text/x-python",
   "name": "python",
   "nbconvert_exporter": "python",
   "pygments_lexer": "ipython3",
   "version": "3.12.4"
  }
 },
 "nbformat": 4,
 "nbformat_minor": 5
}
