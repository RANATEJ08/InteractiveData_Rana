{
 "cells": [
  {
   "cell_type": "markdown",
   "id": "26456095-4cfa-41d0-bde7-8010fb4a506c",
   "metadata": {},
   "source": [
    "## Systems Check\n",
    "## Rana\n",
    "## 8/21/24"
   ]
  },
  {
   "cell_type": "code",
   "execution_count": 1,
   "id": "b3ce98cf-c209-464d-9994-d709f24c5dc8",
   "metadata": {},
   "outputs": [],
   "source": [
    "x = 3"
   ]
  },
  {
   "cell_type": "code",
   "execution_count": 2,
   "id": "1c0ce9e0-cbb0-4496-8417-9d7e29debb67",
   "metadata": {},
   "outputs": [
    {
     "data": {
      "text/plain": [
       "3"
      ]
     },
     "execution_count": 2,
     "metadata": {},
     "output_type": "execute_result"
    }
   ],
   "source": [
    "x"
   ]
  },
  {
   "cell_type": "code",
   "execution_count": 3,
   "id": "741c751b-0ac3-450a-a1a3-a0bea43fea8f",
   "metadata": {},
   "outputs": [
    {
     "data": {
      "text/plain": [
       "[2, 3, 4, 5]"
      ]
     },
     "execution_count": 3,
     "metadata": {},
     "output_type": "execute_result"
    }
   ],
   "source": [
    "my_list = [2, 3, 4, 5]\n",
    "my_list"
   ]
  },
  {
   "cell_type": "code",
   "execution_count": 4,
   "id": "887450d1-7c04-4ed2-a791-f7e22d64c31a",
   "metadata": {},
   "outputs": [],
   "source": [
    "my_list = ['now', 'see', 'then']"
   ]
  },
  {
   "cell_type": "code",
   "execution_count": 5,
   "id": "730b90a3-14d2-447d-b171-f16c3bcaea60",
   "metadata": {},
   "outputs": [],
   "source": [
    "my_name = 'Rana'"
   ]
  },
  {
   "cell_type": "code",
   "execution_count": 8,
   "id": "de4abc0f-d7d0-43ad-8597-c133adf91b60",
   "metadata": {},
   "outputs": [],
   "source": [
    "def display_name(x):\n",
    "    print(x)"
   ]
  },
  {
   "cell_type": "code",
   "execution_count": 9,
   "id": "2c386db0-c287-4709-8270-3e219296bb50",
   "metadata": {},
   "outputs": [
    {
     "name": "stdout",
     "output_type": "stream",
     "text": [
      "Rana\n"
     ]
    }
   ],
   "source": [
    "display_name(my_name)"
   ]
  },
  {
   "cell_type": "code",
   "execution_count": 10,
   "id": "000d6ed9-21ea-4534-a538-46378529878f",
   "metadata": {},
   "outputs": [],
   "source": [
    "def change_name(x):\n",
    "    new_name = x + 'new'\n",
    "    return new_name"
   ]
  },
  {
   "cell_type": "code",
   "execution_count": 11,
   "id": "123005e5-8f38-4c9b-849f-d2ccaf9acd90",
   "metadata": {},
   "outputs": [
    {
     "data": {
      "text/plain": [
       "'Rananew'"
      ]
     },
     "execution_count": 11,
     "metadata": {},
     "output_type": "execute_result"
    }
   ],
   "source": [
    "changed_name = change_name('Rana')\n",
    "changed_name"
   ]
  }
 ],
 "metadata": {
  "kernelspec": {
   "display_name": "Python 3 (ipykernel)",
   "language": "python",
   "name": "python3"
  },
  "language_info": {
   "codemirror_mode": {
    "name": "ipython",
    "version": 3
   },
   "file_extension": ".py",
   "mimetype": "text/x-python",
   "name": "python",
   "nbconvert_exporter": "python",
   "pygments_lexer": "ipython3",
   "version": "3.12.4"
  }
 },
 "nbformat": 4,
 "nbformat_minor": 5
}
